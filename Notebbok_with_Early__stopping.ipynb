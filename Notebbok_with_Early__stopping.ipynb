{
  "nbformat": 4,
  "nbformat_minor": 0,
  "metadata": {
    "colab": {
      "provenance": [],
      "gpuType": "T4",
      "collapsed_sections": [
        "19sPpQZfOYZy"
      ],
      "include_colab_link": true
    },
    "kernelspec": {
      "name": "python3",
      "display_name": "Python 3"
    },
    "language_info": {
      "name": "python"
    },
    "accelerator": "GPU"
  },
  "cells": [
    {
      "cell_type": "markdown",
      "metadata": {
        "id": "view-in-github",
        "colab_type": "text"
      },
      "source": [
        "<a href=\"https://colab.research.google.com/github/harshjoshi23/AI1_Task1/blob/main/Notebbok_with_Early__stopping.ipynb\" target=\"_parent\"><img src=\"https://colab.research.google.com/assets/colab-badge.svg\" alt=\"Open In Colab\"/></a>"
      ]
    },
    {
      "cell_type": "code",
      "execution_count": null,
      "metadata": {
        "id": "CSVd1TljAcR2"
      },
      "outputs": [],
      "source": []
    },
    {
      "cell_type": "code",
      "source": [],
      "metadata": {
        "id": "3ifFVhFAAd5F"
      },
      "execution_count": null,
      "outputs": []
    },
    {
      "cell_type": "markdown",
      "source": [
        "# 1st"
      ],
      "metadata": {
        "id": "19sPpQZfOYZy"
      }
    },
    {
      "cell_type": "code",
      "source": [
        "# import torch\n",
        "# import torchvision\n",
        "# from torch.utils.data import DataLoader, Dataset\n",
        "# from torchvision import transforms\n",
        "# import torch.nn as nn\n",
        "# import torch.optim as optim\n",
        "# import os\n",
        "# from PIL import Image\n",
        "# import matplotlib.pyplot as plt\n",
        "# import numpy as np\n",
        "\n",
        "# # Check if GPU is available and set the device accordingly\n",
        "# device = torch.device(\"cuda\" if torch.cuda.is_available() else \"cpu\")\n",
        "# print(f'Using device: {device}')\n"
      ],
      "metadata": {
        "id": "pA6z924KAd2R"
      },
      "execution_count": null,
      "outputs": []
    },
    {
      "cell_type": "code",
      "source": [],
      "metadata": {
        "id": "L98_5fG9Ad0L"
      },
      "execution_count": null,
      "outputs": []
    },
    {
      "cell_type": "code",
      "source": [
        "# from google.colab import drive\n",
        "# drive.mount('/content/drive')"
      ],
      "metadata": {
        "id": "6mQNdpoDAueI"
      },
      "execution_count": null,
      "outputs": []
    },
    {
      "cell_type": "code",
      "source": [],
      "metadata": {
        "id": "jziFJXF9W-zH"
      },
      "execution_count": null,
      "outputs": []
    },
    {
      "cell_type": "code",
      "source": [
        "# # Define paths to dataset folders\n",
        "# base_path = '/content/drive/My Drive/CamVid_Actual'\n",
        "# train_images = os.path.join(base_path, 'train')\n",
        "# train_labels = os.path.join(base_path, 'train_labels')\n",
        "# test_images = os.path.join(base_path, 'test')\n",
        "# test_labels = os.path.join(base_path, 'test_labels')\n",
        "# val_images = os.path.join(base_path, 'val')\n",
        "# val_labels = os.path.join(base_path, 'val_labels')"
      ],
      "metadata": {
        "id": "esWa68hZW-wS"
      },
      "execution_count": null,
      "outputs": []
    },
    {
      "cell_type": "code",
      "source": [],
      "metadata": {
        "id": "ZWKi4ifPPW3C"
      },
      "execution_count": null,
      "outputs": []
    },
    {
      "cell_type": "markdown",
      "source": [
        "# Start"
      ],
      "metadata": {
        "id": "6--IFCfRPqXU"
      }
    },
    {
      "cell_type": "code",
      "source": [],
      "metadata": {
        "id": "xKfEw_SfPW0M"
      },
      "execution_count": null,
      "outputs": []
    },
    {
      "cell_type": "code",
      "source": [],
      "metadata": {
        "id": "0ZDXURABPWyO"
      },
      "execution_count": null,
      "outputs": []
    },
    {
      "cell_type": "code",
      "source": [
        "import os\n",
        "import numpy as np\n",
        "import pandas as pd\n",
        "from PIL import Image\n",
        "import torch\n",
        "from torch.utils.data import Dataset, DataLoader\n",
        "from torchvision import transforms\n",
        "import matplotlib.pyplot as plt"
      ],
      "metadata": {
        "id": "2lLjcA3oPWv5"
      },
      "execution_count": null,
      "outputs": []
    },
    {
      "cell_type": "code",
      "source": [],
      "metadata": {
        "id": "gkzgUrgfW-uM"
      },
      "execution_count": null,
      "outputs": []
    },
    {
      "cell_type": "code",
      "source": [
        "from google.colab import drive\n",
        "drive.mount('/content/drive')"
      ],
      "metadata": {
        "id": "5qK4yMGiW-sF",
        "colab": {
          "base_uri": "https://localhost:8080/"
        },
        "outputId": "dc30d9ad-b2d4-464d-9246-39a700451471"
      },
      "execution_count": null,
      "outputs": [
        {
          "output_type": "stream",
          "name": "stdout",
          "text": [
            "Drive already mounted at /content/drive; to attempt to forcibly remount, call drive.mount(\"/content/drive\", force_remount=True).\n"
          ]
        }
      ]
    },
    {
      "cell_type": "code",
      "source": [
        "# Define paths to dataset folders\n",
        "base_path = '/content/drive/My Drive/CamVid_Actual'\n",
        "train_images = os.path.join(base_path, 'train')\n",
        "train_labels = os.path.join(base_path, 'train_labels')\n",
        "test_images = os.path.join(base_path, 'test')\n",
        "test_labels = os.path.join(base_path, 'test_labels')\n",
        "val_images = os.path.join(base_path, 'val')\n",
        "val_labels = os.path.join(base_path, 'val_labels')"
      ],
      "metadata": {
        "id": "_Gmd2-f7Pn2m"
      },
      "execution_count": null,
      "outputs": []
    },
    {
      "cell_type": "code",
      "source": [
        "\n",
        "\n",
        "# Suppressing warnings for cleaner notebook presentation\n",
        "import warnings\n",
        "warnings.filterwarnings(\"ignore\")\n",
        "\n",
        "# base_path = '/content/drive/My Drive/CamVid_Actual'\n",
        "\n",
        "# Class dictionary path\n",
        "class_dict_path = os.path.join(base_path, \"class_dict.csv\")\n",
        "\n",
        "# Load class dictionary\n",
        "class_dict = pd.read_csv(class_dict_path)\n",
        "print(class_dict.head())\n"
      ],
      "metadata": {
        "colab": {
          "base_uri": "https://localhost:8080/"
        },
        "id": "uLuJQwm4Pnzw",
        "outputId": "0fa57590-77a6-4cfc-d7e7-2c54fec6625c"
      },
      "execution_count": null,
      "outputs": [
        {
          "output_type": "stream",
          "name": "stdout",
          "text": [
            "        name    r    g    b\n",
            "0     Animal   64  128   64\n",
            "1    Archway  192    0  128\n",
            "2  Bicyclist    0  128  192\n",
            "3     Bridge    0  128   64\n",
            "4   Building  128    0    0\n"
          ]
        }
      ]
    },
    {
      "cell_type": "code",
      "source": [
        "\n",
        "# Color mapping from CSV\n",
        "color_to_class = {tuple(row[['r', 'g', 'b']].values): idx for idx, row in class_dict.iterrows()}\n",
        "class_to_color = {idx: tuple(row[['r', 'g', 'b']].values) for idx, row in class_dict.iterrows()}\n",
        "\n",
        "# Dataset paths\n",
        "train_images_path = sorted([os.path.join(base_path, \"train\", x) for x in os.listdir(os.path.join(base_path, \"train\"))])\n",
        "train_labels_path = sorted([os.path.join(base_path, \"train_labels\", x) for x in os.listdir(os.path.join(base_path, \"train_labels\"))])\n",
        "val_images_path = sorted([os.path.join(base_path, \"val\", x) for x in os.listdir(os.path.join(base_path, \"val\"))])\n",
        "val_labels_path = sorted([os.path.join(base_path, \"val_labels\", x) for x in os.listdir(os.path.join(base_path, \"val_labels\"))])\n",
        "\n",
        "# Example transformation and dataset class\n",
        "transform = transforms.Compose([\n",
        "    transforms.Resize((256, 256)),\n",
        "    transforms.ToTensor(),\n",
        "    transforms.Normalize(mean=[0.485, 0.456, 0.406], std=[0.229, 0.224, 0.225])\n",
        "])\n"
      ],
      "metadata": {
        "id": "ERtjCARaW-pl"
      },
      "execution_count": null,
      "outputs": []
    },
    {
      "cell_type": "code",
      "source": [],
      "metadata": {
        "id": "ElOH1HWXW-m5"
      },
      "execution_count": null,
      "outputs": []
    },
    {
      "cell_type": "code",
      "source": [
        "class CamVidDataset(Dataset):\n",
        "    def __init__(self, images_path, labels_path, transform=None, label_transform=None):\n",
        "        self.images_path = images_path\n",
        "        self.labels_path = labels_path\n",
        "        self.transform = transform\n",
        "        self.label_transform = label_transform  # Separate transform for labels\n",
        "\n",
        "    def __len__(self):\n",
        "        return len(self.images_path)\n",
        "\n",
        "    def __getitem__(self, idx):\n",
        "        image = Image.open(self.images_path[idx]).convert(\"RGB\")\n",
        "        label = Image.open(self.labels_path[idx])\n",
        "\n",
        "        if self.transform:\n",
        "            image = self.transform(image)\n",
        "\n",
        "        if self.label_transform:\n",
        "            label = self.label_transform(label)  # Apply label-specific transformations\n",
        "\n",
        "        # Convert label to class indices using color mapping\n",
        "        label = np.array(label, dtype=np.int32)  # Ensure using int32 for label indexing\n",
        "        mask = np.zeros((label.shape[0], label.shape[1]), dtype=np.int64)\n",
        "        for rgb, class_id in color_to_class.items():\n",
        "            match = (label == np.array(rgb, dtype=np.int32)).all(axis=-1)\n",
        "            mask[match] = class_id\n",
        "\n",
        "        label = torch.from_numpy(mask)\n",
        "        return image, label\n",
        "\n",
        "# Define transformations\n",
        "transform = transforms.Compose([\n",
        "    transforms.Resize((256, 256)),\n",
        "    transforms.ToTensor(),\n",
        "    transforms.Normalize(mean=[0.485, 0.456, 0.406], std=[0.229, 0.224, 0.225])\n",
        "])\n",
        "\n",
        "label_transform = transforms.Compose([\n",
        "    transforms.Resize((256, 256), interpolation=Image.NEAREST)  # Resize labels to match image size\n",
        "])\n",
        "\n",
        "train_dataset = CamVidDataset(train_images_path, train_labels_path, transform, label_transform)\n",
        "val_dataset = CamVidDataset(val_images_path, val_labels_path, transform, label_transform)\n",
        "train_loader = DataLoader(train_dataset, batch_size=2, shuffle=True)\n",
        "val_loader = DataLoader(val_dataset, batch_size=2, shuffle=False)\n"
      ],
      "metadata": {
        "id": "s3yZC00sY39T"
      },
      "execution_count": null,
      "outputs": []
    },
    {
      "cell_type": "code",
      "source": [],
      "metadata": {
        "id": "poDwiGkTZXAw"
      },
      "execution_count": null,
      "outputs": []
    },
    {
      "cell_type": "code",
      "source": [
        "# Quick check\n",
        "for images, labels in train_loader:\n",
        "    print(f\"Image batch shape: {images.size()}\")\n",
        "    print(f\"Label batch shape: {labels.size()}\")\n",
        "    plt.figure(figsize=(10, 5))\n",
        "    plt.subplot(121)\n",
        "    plt.imshow(images[0].permute(1, 2, 0).numpy())\n",
        "    plt.title(\"Image\")\n",
        "    plt.subplot(122)\n",
        "    plt.imshow(labels[0].numpy())\n",
        "    plt.title(\"Label\")\n",
        "    plt.show()\n",
        "    break"
      ],
      "metadata": {
        "colab": {
          "base_uri": "https://localhost:8080/",
          "height": 507
        },
        "id": "-pL_LDI5Y__j",
        "outputId": "b43a5a0a-d728-407b-ed99-7ca0cec03d8a"
      },
      "execution_count": null,
      "outputs": [
        {
          "output_type": "stream",
          "name": "stderr",
          "text": [
            "WARNING:matplotlib.image:Clipping input data to the valid range for imshow with RGB data ([0..1] for floats or [0..255] for integers).\n"
          ]
        },
        {
          "output_type": "stream",
          "name": "stdout",
          "text": [
            "Image batch shape: torch.Size([2, 3, 256, 256])\n",
            "Label batch shape: torch.Size([2, 256, 256])\n"
          ]
        },
        {
          "output_type": "display_data",
          "data": {
            "text/plain": [
              "<Figure size 1000x500 with 2 Axes>"
            ],
            "image/png": "[encoded data removed]"
          },
          "metadata": {}
        }
      ]
    },
    {
      "cell_type": "code",
      "source": [],
      "metadata": {
        "id": "Ws6JhG9JY36e"
      },
      "execution_count": null,
      "outputs": []
    },
    {
      "cell_type": "code",
      "source": [],
      "metadata": {
        "id": "9qxSv5Z1Y34n"
      },
      "execution_count": null,
      "outputs": []
    },
    {
      "cell_type": "code",
      "source": [
        "import torch\n",
        "import torch.nn as nn\n",
        "\n",
        "class DoubleConv(nn.Module):\n",
        "    \"\"\"(convolution => [BN] => ReLU) * 2\"\"\"\n",
        "    def __init__(self, in_channels, out_channels):\n",
        "        super(DoubleConv, self).__init__()\n",
        "        self.double_conv = nn.Sequential(\n",
        "            nn.Conv2d(in_channels, out_channels, 3, padding=1),\n",
        "            nn.BatchNorm2d(out_channels),\n",
        "            nn.ReLU(inplace=True),\n",
        "            nn.Conv2d(out_channels, out_channels, 3, padding=1),\n",
        "            nn.BatchNorm2d(out_channels),\n",
        "            nn.ReLU(inplace=True)\n",
        "        )\n",
        "\n",
        "    def forward(self, x):\n",
        "        return self.double_conv(x)\n",
        "\n",
        "class UNet(nn.Module):\n",
        "    def __init__(self, n_channels, n_classes):\n",
        "        super(UNet, self).__init__()\n",
        "        self.n_channels = n_channels\n",
        "        self.n_classes = n_classes\n",
        "\n",
        "        self.inc = DoubleConv(n_channels, 64)\n",
        "        self.down1 = DoubleConv(64, 128)\n",
        "        self.down2 = DoubleConv(128, 256)\n",
        "        self.down3 = DoubleConv(256, 512)\n",
        "        self.down4 = DoubleConv(512, 512)\n",
        "        self.up1 = DoubleConv(1024, 256)\n",
        "        self.up2 = DoubleConv(512, 128)\n",
        "        self.up3 = DoubleConv(256, 64)\n",
        "        self.up4 = DoubleConv(128, 64)\n",
        "        self.outc = nn.Conv2d(64, n_classes, 1)\n",
        "\n",
        "    def forward(self, x):\n",
        "        x1 = self.inc(x)\n",
        "        x2 = self.down1(x1)\n",
        "        x3 = self.down2(x2)\n",
        "        x4 = self.down3(x3)\n",
        "        x5 = self.down4(x4)\n",
        "        x = self.up1(torch.cat([x4, x5], dim=1))\n",
        "        x = self.up2(torch.cat([x3, x], dim=1))\n",
        "        x = self.up3(torch.cat([x2, x], dim=1))\n",
        "        x = self.up4(torch.cat([x1, x], dim=1))\n",
        "        logits = self.outc(x)\n",
        "        return logits\n",
        "\n",
        "# Model initialization\n",
        "device = torch.device('cuda' if torch.cuda.is_available() else 'cpu')\n",
        "model = UNet(n_channels=3, n_classes=len(class_dict)).to(device)\n"
      ],
      "metadata": {
        "id": "0Y4C8bIgcS2w"
      },
      "execution_count": null,
      "outputs": []
    },
    {
      "cell_type": "code",
      "source": [],
      "metadata": {
        "id": "LQlVBoBHcSz9"
      },
      "execution_count": null,
      "outputs": []
    },
    {
      "cell_type": "code",
      "source": [
        "criterion = nn.CrossEntropyLoss()\n",
        "optimizer = torch.optim.Adam(model.parameters(), lr=0.001)\n"
      ],
      "metadata": {
        "id": "BKIbnU1acSxu"
      },
      "execution_count": null,
      "outputs": []
    },
    {
      "cell_type": "code",
      "source": [],
      "metadata": {
        "id": "lvOJb5iCZo9h"
      },
      "execution_count": null,
      "outputs": []
    },
    {
      "cell_type": "code",
      "source": [],
      "metadata": {
        "id": "J9Jir_RIZo1z"
      },
      "execution_count": null,
      "outputs": []
    },
    {
      "cell_type": "code",
      "source": [
        "import torch\n",
        "\n",
        "def train_model(model, train_loader, val_loader, criterion, optimizer, num_epochs=50, early_stopping_patience=10):\n",
        "    best_val_loss = float('inf')\n",
        "    epochs_no_improve = 0\n",
        "\n",
        "    device = torch.device(\"cuda\" if torch.cuda.is_available() else \"cpu\")\n",
        "    print(f'Using device: {device}')  # Check which device is being used\n",
        "    model.to(device)\n",
        "\n",
        "    for epoch in range(num_epochs):\n",
        "        model.train()\n",
        "        train_loss = 0\n",
        "        correct_train = 0\n",
        "        total_train = 0\n",
        "        for images, masks in train_loader:\n",
        "            images, masks = images.to(device), masks.to(device)\n",
        "            optimizer.zero_grad()\n",
        "            outputs = model(images)\n",
        "            loss = criterion(outputs, masks)\n",
        "            loss.backward()\n",
        "            optimizer.step()\n",
        "            train_loss += loss.item()\n",
        "\n",
        "            preds = torch.argmax(outputs, dim=1)\n",
        "            correct_train += (preds == masks).sum().item()\n",
        "            total_train += masks.numel()\n",
        "\n",
        "        train_accuracy = 100 * correct_train / total_train\n",
        "\n",
        "        model.eval()\n",
        "        val_loss = 0\n",
        "        correct_val = 0\n",
        "        total_val = 0\n",
        "        iou_per_class = []\n",
        "        with torch.no_grad():\n",
        "            for images, masks in val_loader:\n",
        "                images, masks = images.to(device), masks.to(device)\n",
        "                outputs = model(images)\n",
        "                loss = criterion(outputs, masks)\n",
        "                val_loss += loss.item()\n",
        "\n",
        "                preds = torch.argmax(outputs, dim=1)\n",
        "                correct_val += (preds == masks).sum().item()\n",
        "                total_val += masks.numel()\n",
        "\n",
        "                for class_id in range(len(class_dict)):  # Make sure class_dict is defined\n",
        "                    intersection = ((preds == class_id) & (masks == class_id)).float().sum()\n",
        "                    union = ((preds == class_id) | (masks == class_id)).float().sum()\n",
        "                    if union > 0:\n",
        "                        iou_per_class.append(intersection / union)\n",
        "\n",
        "        val_accuracy = 100 * correct_val / total_val\n",
        "        average_iou = sum(iou_per_class) / len(iou_per_class) if iou_per_class else 0\n",
        "        val_loss /= len(val_loader)\n",
        "\n",
        "        print(f'Epoch {epoch + 1}/{num_epochs}, Train Loss: {train_loss / len(train_loader):.3f}, Train Acc: {train_accuracy:.2f}%, Val Loss: {val_loss:.3f}, Val Acc: {val_accuracy:.2f}%, Average IoU: {average_iou:.4f}')\n",
        "\n",
        "        # Early stopping condition\n",
        "        if val_loss < best_val_loss:\n",
        "            best_val_loss = val_loss\n",
        "            epochs_no_improve = 0\n",
        "        else:\n",
        "            epochs_no_improve += 1\n",
        "\n",
        "        if epochs_no_improve >= early_stopping_patience:\n",
        "            print('Early stopping!')\n",
        "            break\n",
        "\n",
        "# Example of calling train_model\n",
        "train_model(model, train_loader, val_loader, criterion, optimizer)\n"
      ],
      "metadata": {
        "colab": {
          "base_uri": "https://localhost:8080/"
        },
        "id": "LF93VeJVVO_I",
        "outputId": "92a4bc6d-9749-45a7-fbb4-a5b65a66d2ff"
      },
      "execution_count": null,
      "outputs": [
        {
          "output_type": "stream",
          "name": "stdout",
          "text": [
            "Using device: cuda\n",
            "Epoch 1/50, Train Loss: 1.006, Train Acc: 69.95%, Val Loss: 1.092, Val Acc: 67.24%, Average IoU: 0.1656\n",
            "Epoch 2/50, Train Loss: 0.937, Train Acc: 72.06%, Val Loss: 0.973, Val Acc: 72.69%, Average IoU: 0.1912\n",
            "Epoch 3/50, Train Loss: 0.893, Train Acc: 73.17%, Val Loss: 1.015, Val Acc: 71.06%, Average IoU: 0.1866\n",
            "Epoch 4/50, Train Loss: 0.862, Train Acc: 74.12%, Val Loss: 0.873, Val Acc: 74.68%, Average IoU: 0.2087\n",
            "Epoch 5/50, Train Loss: 0.824, Train Acc: 75.51%, Val Loss: 0.935, Val Acc: 74.15%, Average IoU: 0.2004\n",
            "Epoch 6/50, Train Loss: 0.758, Train Acc: 77.50%, Val Loss: 0.824, Val Acc: 76.45%, Average IoU: 0.2205\n",
            "Epoch 7/50, Train Loss: 0.744, Train Acc: 78.11%, Val Loss: 0.811, Val Acc: 76.91%, Average IoU: 0.2230\n",
            "Epoch 8/50, Train Loss: 0.730, Train Acc: 78.37%, Val Loss: 0.747, Val Acc: 77.67%, Average IoU: 0.2414\n",
            "Epoch 9/50, Train Loss: 0.696, Train Acc: 79.31%, Val Loss: 0.754, Val Acc: 78.09%, Average IoU: 0.2437\n",
            "Epoch 10/50, Train Loss: 0.663, Train Acc: 80.31%, Val Loss: 0.800, Val Acc: 76.93%, Average IoU: 0.2287\n",
            "Epoch 11/50, Train Loss: 0.650, Train Acc: 80.66%, Val Loss: 0.685, Val Acc: 79.77%, Average IoU: 0.2564\n",
            "Epoch 12/50, Train Loss: 0.619, Train Acc: 81.66%, Val Loss: 0.672, Val Acc: 79.89%, Average IoU: 0.2635\n",
            "Epoch 13/50, Train Loss: 0.612, Train Acc: 81.73%, Val Loss: 0.689, Val Acc: 79.31%, Average IoU: 0.2547\n",
            "Epoch 14/50, Train Loss: 0.595, Train Acc: 82.26%, Val Loss: 0.733, Val Acc: 79.41%, Average IoU: 0.2507\n",
            "Epoch 15/50, Train Loss: 0.586, Train Acc: 82.47%, Val Loss: 0.732, Val Acc: 78.46%, Average IoU: 0.2494\n",
            "Epoch 16/50, Train Loss: 0.565, Train Acc: 83.09%, Val Loss: 0.663, Val Acc: 80.40%, Average IoU: 0.2668\n",
            "Epoch 17/50, Train Loss: 0.555, Train Acc: 83.38%, Val Loss: 0.653, Val Acc: 80.24%, Average IoU: 0.2682\n",
            "Epoch 18/50, Train Loss: 0.556, Train Acc: 83.51%, Val Loss: 0.638, Val Acc: 81.25%, Average IoU: 0.2692\n",
            "Epoch 19/50, Train Loss: 0.531, Train Acc: 84.07%, Val Loss: 0.640, Val Acc: 81.40%, Average IoU: 0.2764\n",
            "Epoch 20/50, Train Loss: 0.519, Train Acc: 84.54%, Val Loss: 0.805, Val Acc: 76.48%, Average IoU: 0.2485\n",
            "Epoch 21/50, Train Loss: 0.514, Train Acc: 84.54%, Val Loss: 0.586, Val Acc: 82.66%, Average IoU: 0.2897\n",
            "Epoch 22/50, Train Loss: 0.491, Train Acc: 85.23%, Val Loss: 0.615, Val Acc: 82.43%, Average IoU: 0.2783\n",
            "Epoch 23/50, Train Loss: 0.489, Train Acc: 85.17%, Val Loss: 0.667, Val Acc: 81.08%, Average IoU: 0.2615\n",
            "Epoch 24/50, Train Loss: 0.483, Train Acc: 85.43%, Val Loss: 0.593, Val Acc: 82.42%, Average IoU: 0.2825\n",
            "Epoch 25/50, Train Loss: 0.481, Train Acc: 85.53%, Val Loss: 0.553, Val Acc: 83.74%, Average IoU: 0.3025\n",
            "Epoch 26/50, Train Loss: 0.460, Train Acc: 86.08%, Val Loss: 0.553, Val Acc: 83.57%, Average IoU: 0.2928\n",
            "Epoch 27/50, Train Loss: 0.450, Train Acc: 86.29%, Val Loss: 0.556, Val Acc: 83.68%, Average IoU: 0.3011\n"
          ]
        }
      ]
    },
    {
      "cell_type": "code",
      "source": [],
      "metadata": {
        "id": "LtjcTTi-SaZS"
      },
      "execution_count": null,
      "outputs": []
    },
    {
      "cell_type": "code",
      "source": [
        "def evaluate_model(model, test_loader, criterion):\n",
        "    model.eval()\n",
        "    test_loss = 0\n",
        "    correct = 0\n",
        "    total = 0\n",
        "    iou_per_class = []\n",
        "\n",
        "    with torch.no_grad():\n",
        "        for images, masks in test_loader:\n",
        "            images, masks = images.to(device), masks.to(device)\n",
        "            outputs = model(images)\n",
        "            test_loss += criterion(outputs, masks).item()\n",
        "            preds = torch.argmax(outputs, dim=1)\n",
        "            correct += (preds == masks).sum().item()\n",
        "            total += masks.numel()\n",
        "\n",
        "            # Calculate IoU for each class\n",
        "            for class_id in range(len(class_dict)):\n",
        "                intersection = ((preds == class_id) & (masks == class_id)).float().sum()\n",
        "                union = ((preds == class_id) | (masks == class_id)).float().sum()\n",
        "                if union > 0:\n",
        "                    iou_per_class.append(intersection / union)\n",
        "\n",
        "    average_iou = sum(iou_per_class) / len(iou_per_class) if iou_per_class else 0\n",
        "    test_accuracy = 100 * correct / total\n",
        "    test_loss /= len(test_loader)\n",
        "\n",
        "    print(f'Test Loss: {test_loss:.3f}, Test Accuracy: {test_accuracy:.2f}%, Average IoU: {average_iou:.4f}')\n",
        "\n",
        "# Example of calling evaluate_model\n",
        "evaluate_model(model, test_loader, criterion)\n"
      ],
      "metadata": {
        "id": "wK7VgDxraMFK"
      },
      "execution_count": null,
      "outputs": []
    },
    {
      "cell_type": "code",
      "source": [],
      "metadata": {
        "id": "3dbV-aki8f9V"
      },
      "execution_count": null,
      "outputs": []
    },
    {
      "cell_type": "code",
      "source": [],
      "metadata": {
        "id": "wqfMYCKm8f6m"
      },
      "execution_count": null,
      "outputs": []
    },
    {
      "cell_type": "code",
      "source": [],
      "metadata": {
        "id": "szheLuDV8f4S"
      },
      "execution_count": null,
      "outputs": []
    },
    {
      "cell_type": "code",
      "source": [],
      "metadata": {
        "id": "Updftq9h8f2T"
      },
      "execution_count": null,
      "outputs": []
    },
    {
      "cell_type": "code",
      "source": [
        "dump"
      ],
      "metadata": {
        "id": "xbPlGUOZaZ2j"
      },
      "execution_count": null,
      "outputs": []
    },
    {
      "cell_type": "code",
      "source": [],
      "metadata": {
        "id": "8Duj98AuaMCh"
      },
      "execution_count": null,
      "outputs": []
    },
    {
      "cell_type": "code",
      "source": [
        "# import torch  looks overfitted / eaky\n",
        "# import torch.nn.functional as F\n",
        "\n",
        "# def train_model(model, train_loader, val_loader, criterion, optimizer, num_epochs=50, early_stopping_patience=10):\n",
        "#     best_val_loss = float('inf')\n",
        "#     epochs_no_improve = 0\n",
        "\n",
        "#     device = torch.device(\"cuda\" if torch.cuda.is_available() else \"cpu\")\n",
        "#     print(f'Using device: {device}')  # Check which device is being used\n",
        "#     torch.cuda.empty_cache()  # Clear any cached data to ensure a clean run\n",
        "#     model.to(device)\n",
        "\n",
        "#     for epoch in range(num_epochs):\n",
        "#         model.train()\n",
        "#         train_loss = 0\n",
        "#         for images, masks in train_loader:\n",
        "#             images, masks = images.to(device), masks.to(device)\n",
        "#             optimizer.zero_grad()\n",
        "#             outputs = model(images)\n",
        "#             loss = criterion(outputs, masks)\n",
        "#             loss.backward()\n",
        "#             optimizer.step()\n",
        "#             train_loss += loss.item()\n",
        "\n",
        "#         # Evaluation phase\n",
        "#         model.eval()\n",
        "#         val_loss = 0\n",
        "#         correct_val = 0\n",
        "#         total_val = 0\n",
        "#         iou_per_class = []\n",
        "#         with torch.no_grad():\n",
        "#             for images, masks in val_loader:\n",
        "#                 images, masks = images.to(device), masks.to(device)\n",
        "#                 outputs = model(images)\n",
        "#                 val_loss += criterion(outputs, masks).item()\n",
        "\n",
        "#                 preds = torch.argmax(outputs, dim=1)\n",
        "#                 correct_val += (preds == masks).sum().item()\n",
        "#                 total_val += masks.numel()\n",
        "\n",
        "#                 # Calculate IoU\n",
        "#                 for class_id in range(len(class_dict)):\n",
        "#                     intersection = ((preds == class_id) & (masks == class_id)).float().sum()\n",
        "#                     union = ((preds == class_id) | (masks == class_id)).float().sum()\n",
        "#                     if union > 0:\n",
        "#                         iou_per_class.append(intersection / union)\n",
        "\n",
        "#         # Average IoU across classes\n",
        "#         average_iou = sum(iou_per_class) / len(iou_per_class) if iou_per_class else 0\n",
        "#         val_accuracy = 100 * correct_val / total_val\n",
        "#         val_loss /= len(val_loader)\n",
        "\n",
        "#         # Early stopping condition\n",
        "#         if val_loss < best_val_loss:\n",
        "#             best_val_loss = val_loss\n",
        "#             epochs_no_improve = 0\n",
        "#         else:\n",
        "#             epochs_no_improve += 1\n",
        "\n",
        "#         if epochs_no_improve >= early_stopping_patience:\n",
        "#             print('Early stopping!')\n",
        "#             break\n",
        "\n",
        "#         if val_accuracy >= 90:\n",
        "#             print('Reached 90% accuracy, stopping early!')\n",
        "#             break\n",
        "\n",
        "#         print(f'Epoch {epoch + 1}/{num_epochs}, Train Loss: {train_loss / len(train_loader):.3f}, Val Loss: {val_loss:.3f}, Val Acc: {val_accuracy:.2f}%, Average IoU: {average_iou:.4f}')\n",
        "\n",
        "# # Example of calling train_model\n",
        "# train_model(model, train_loader, val_loader, criterion, optimizer)\n"
      ],
      "metadata": {
        "colab": {
          "base_uri": "https://localhost:8080/",
          "height": 367
        },
        "id": "HsnojsXFRkyd",
        "outputId": "632f4ee5-a2d6-4aaf-82ce-84c981198cd3"
      },
      "execution_count": null,
      "outputs": [
        {
          "output_type": "stream",
          "name": "stdout",
          "text": [
            "Using device: cuda\n",
            "Epoch 1/50, Train Loss: 1.512, Val Loss: 1.252, Val Acc: 64.77%, Average IoU: 0.1410\n",
            "Epoch 2/50, Train Loss: 1.132, Val Loss: 1.173, Val Acc: 64.76%, Average IoU: 0.1605\n"
          ]
        },
        {
          "output_type": "error",
          "ename": "KeyboardInterrupt",
          "evalue": "",
          "traceback": [
            "\u001b[0;31m---------------------------------------------------------------------------\u001b[0m",
            "\u001b[0;31mKeyboardInterrupt\u001b[0m                         Traceback (most recent call last)",
            "\u001b[0;32m<ipython-input-13-c0596d9f5669>\u001b[0m in \u001b[0;36m<cell line: 71>\u001b[0;34m()\u001b[0m\n\u001b[1;32m     69\u001b[0m \u001b[0;34m\u001b[0m\u001b[0m\n\u001b[1;32m     70\u001b[0m \u001b[0;31m# Example of calling train_model\u001b[0m\u001b[0;34m\u001b[0m\u001b[0;34m\u001b[0m\u001b[0m\n\u001b[0;32m---> 71\u001b[0;31m \u001b[0mtrain_model\u001b[0m\u001b[0;34m(\u001b[0m\u001b[0mmodel\u001b[0m\u001b[0;34m,\u001b[0m \u001b[0mtrain_loader\u001b[0m\u001b[0;34m,\u001b[0m \u001b[0mval_loader\u001b[0m\u001b[0;34m,\u001b[0m \u001b[0mcriterion\u001b[0m\u001b[0;34m,\u001b[0m \u001b[0moptimizer\u001b[0m\u001b[0;34m)\u001b[0m\u001b[0;34m\u001b[0m\u001b[0;34m\u001b[0m\u001b[0m\n\u001b[0m",
            "\u001b[0;32m<ipython-input-13-c0596d9f5669>\u001b[0m in \u001b[0;36mtrain_model\u001b[0;34m(model, train_loader, val_loader, criterion, optimizer, num_epochs, early_stopping_patience)\u001b[0m\n\u001b[1;32m     21\u001b[0m             \u001b[0mloss\u001b[0m\u001b[0;34m.\u001b[0m\u001b[0mbackward\u001b[0m\u001b[0;34m(\u001b[0m\u001b[0;34m)\u001b[0m\u001b[0;34m\u001b[0m\u001b[0;34m\u001b[0m\u001b[0m\n\u001b[1;32m     22\u001b[0m             \u001b[0moptimizer\u001b[0m\u001b[0;34m.\u001b[0m\u001b[0mstep\u001b[0m\u001b[0;34m(\u001b[0m\u001b[0;34m)\u001b[0m\u001b[0;34m\u001b[0m\u001b[0;34m\u001b[0m\u001b[0m\n\u001b[0;32m---> 23\u001b[0;31m             \u001b[0mtrain_loss\u001b[0m \u001b[0;34m+=\u001b[0m \u001b[0mloss\u001b[0m\u001b[0;34m.\u001b[0m\u001b[0mitem\u001b[0m\u001b[0;34m(\u001b[0m\u001b[0;34m)\u001b[0m\u001b[0;34m\u001b[0m\u001b[0;34m\u001b[0m\u001b[0m\n\u001b[0m\u001b[1;32m     24\u001b[0m \u001b[0;34m\u001b[0m\u001b[0m\n\u001b[1;32m     25\u001b[0m         \u001b[0;31m# Evaluation phase\u001b[0m\u001b[0;34m\u001b[0m\u001b[0;34m\u001b[0m\u001b[0m\n",
            "\u001b[0;31mKeyboardInterrupt\u001b[0m: "
          ]
        }
      ]
    },
    {
      "cell_type": "markdown",
      "source": [
        "Eval"
      ],
      "metadata": {
        "id": "MW7T_6IzaN05"
      }
    },
    {
      "cell_type": "code",
      "source": [],
      "metadata": {
        "id": "mwRLCO8BRkw1"
      },
      "execution_count": null,
      "outputs": []
    },
    {
      "cell_type": "code",
      "source": [],
      "metadata": {
        "id": "w8cBzRGeRkuE"
      },
      "execution_count": null,
      "outputs": []
    },
    {
      "cell_type": "code",
      "source": [
        "dump"
      ],
      "metadata": {
        "id": "QwKmW6p8df8J"
      },
      "execution_count": null,
      "outputs": []
    },
    {
      "cell_type": "code",
      "source": [
        "#Updated Training Function with Epoch Feedback and Accuracy\n",
        "import torch\n",
        "\n",
        "def train_model(model, train_loader, val_loader, criterion, optimizer, num_epochs=10):\n",
        "    for epoch in range(num_epochs):\n",
        "        model.train()\n",
        "        train_loss = 0.0\n",
        "        correct_train = 0\n",
        "        total_train = 0\n",
        "\n",
        "        for images, masks in train_loader:\n",
        "            images, masks = images.to(device), masks.to(device)\n",
        "            optimizer.zero_grad()\n",
        "            outputs = model(images)\n",
        "            loss = criterion(outputs, masks)\n",
        "            loss.backward()\n",
        "            optimizer.step()\n",
        "            train_loss += loss.item()\n",
        "\n",
        "            # Calculate accuracy\n",
        "            _, predicted = torch.max(outputs.data, 1)\n",
        "            total_train += masks.nelement()\n",
        "            correct_train += predicted.eq(masks.data).sum().item()\n",
        "\n",
        "        train_accuracy = 100 * correct_train / total_train\n",
        "\n",
        "        model.eval()\n",
        "        val_loss = 0.0\n",
        "        correct_val = 0\n",
        "        total_val = 0\n",
        "        with torch.no_grad():\n",
        "            for images, masks in val_loader:\n",
        "                images, masks = images.to(device), masks.to(device)\n",
        "                outputs = model(images)\n",
        "                loss = criterion(outputs, masks)\n",
        "                val_loss += loss.item()\n",
        "\n",
        "                # Calculate accuracy\n",
        "                _, predicted = torch.max(outputs.data, 1)\n",
        "                total_val += masks.nelement()\n",
        "                correct_val += predicted.eq(masks.data).sum().item()\n",
        "\n",
        "        val_accuracy = 100 * correct_val / total_val\n",
        "\n",
        "        print(f'Epoch {epoch + 1}/{num_epochs}, Train Loss: {train_loss / len(train_loader):.3f}, Train Acc: {train_accuracy:.2f}%, Val Loss: {val_loss / len(val_loader):.3f}, Val Acc: {val_accuracy:.2f}%')\n",
        "\n",
        "# Assuming you have already defined 'model', 'train_loader', 'val_loader', 'criterion', and 'optimizer'\n",
        "train_model(model, train_loader, val_loader, criterion, optimizer, num_epochs=10)\n"
      ],
      "metadata": {
        "id": "onNAu_7aTXbF"
      },
      "execution_count": null,
      "outputs": []
    },
    {
      "cell_type": "code",
      "source": [],
      "metadata": {
        "id": "SQRBUkJpTXYR"
      },
      "execution_count": null,
      "outputs": []
    },
    {
      "cell_type": "code",
      "source": [],
      "metadata": {
        "id": "gZ__0ZgrSEMk"
      },
      "execution_count": null,
      "outputs": []
    },
    {
      "cell_type": "code",
      "source": [],
      "metadata": {
        "id": "ze9k6rvMSEJw"
      },
      "execution_count": null,
      "outputs": []
    },
    {
      "cell_type": "markdown",
      "source": [
        "# Incomplete\n"
      ],
      "metadata": {
        "id": "pJbEXL0ESE9h"
      }
    },
    {
      "cell_type": "code",
      "source": [
        "# # Training function with accuracy same above\n",
        "# def train_model(model, train_loader, val_loader, criterion, optimizer, num_epochs=10):\n",
        "#     for epoch in range(num_epochs):\n",
        "#         model.train()\n",
        "#         train_loss = 0\n",
        "#         correct_train = 0\n",
        "#         total_train = 0\n",
        "\n",
        "#         for images, masks in train_loader:\n",
        "#             images, masks = images.to(device), masks.to(device)\n",
        "#             optimizer.zero_grad()\n",
        "#             outputs = model(images)\n",
        "#             loss = criterion(outputs, masks)\n",
        "#             loss.backward()\n",
        "#             optimizer.step()\n",
        "#             train_loss += loss.item()\n",
        "\n",
        "#             _, predicted = torch.max(outputs, 1)\n",
        "#             total_train += masks.numel()\n",
        "#             correct_train += (predicted == masks).sum().item()\n",
        "\n",
        "#         train_accuracy = 100 * correct_train / total_train\n",
        "\n",
        "#         model.eval()\n",
        "#         val_loss = 0\n",
        "#         correct_val = 0\n",
        "#         total_val = 0\n",
        "#         with torch.no_grad():\n",
        "#             for images, masks in val_loader:\n",
        "#                 images, masks = images.to(device), masks.to(device)\n",
        "#                 outputs = model(images)\n",
        "#                 loss = criterion(outputs, masks)\n",
        "#                 val_loss += loss.item()\n",
        "\n",
        "#                 _, predicted = torch.max(outputs, 1)\n",
        "#                 total_val += masks.numel()\n",
        "#                 correct_val += (predicted == masks).sum().item()\n",
        "\n",
        "#         val_accuracy = 100 * correct_val / total_val\n",
        "\n",
        "#         print(f'Epoch {epoch + 1}/{num_epochs}, Train Loss: {train_loss / len(train_loader):.3f}, Train Acc: {train_accuracy:.2f}%, Val Loss: {val_loss / len(val_loader):.3f}, Val Acc: {val_accuracy:.2f}%')\n",
        "\n",
        "# # Run the training\n",
        "# train_model(model, train_loader, val_loader, criterion, optimizer, num_epochs=10)\n"
      ],
      "metadata": {
        "id": "1XzGiAUxf0uv"
      },
      "execution_count": null,
      "outputs": []
    },
    {
      "cell_type": "code",
      "source": [],
      "metadata": {
        "id": "w__8ljD3f0r8"
      },
      "execution_count": null,
      "outputs": []
    },
    {
      "cell_type": "code",
      "source": [],
      "metadata": {
        "id": "ce1ZDMr3f0qQ"
      },
      "execution_count": null,
      "outputs": []
    },
    {
      "cell_type": "code",
      "source": [
        "dump"
      ],
      "metadata": {
        "id": "WNtUkKjIvFN_"
      },
      "execution_count": null,
      "outputs": []
    },
    {
      "cell_type": "code",
      "source": [
        "# Model evaluation on a separate test set\n",
        "def evaluate_model(model, test_loader, criterion):\n",
        "    model.eval()\n",
        "    test_loss = 0\n",
        "    correct_test = 0\n",
        "    total_test = 0\n",
        "\n",
        "    with torch.no_grad():\n",
        "        for images, masks in test_loader:\n",
        "            images, masks = images.to(device), masks.to(device)\n",
        "            outputs = model(images)\n",
        "            loss = criterion(outputs, masks)\n",
        "            test_loss += loss.item()\n",
        "\n",
        "            _, predicted = torch.max(outputs, 1)\n",
        "            total_test += masks.numel()\n",
        "            correct_test += (predicted == masks).sum().item()\n",
        "\n",
        "    test_accuracy = 100 * correct_test / total_test\n",
        "    print(f'Test Loss: {test_loss / len(test_loader):.3f}, Test Accuracy: {test_accuracy:.2f}%')\n",
        "\n",
        "# Assuming test_loader is defined and set up similarly to train_loader and val_loader\n",
        "evaluate_model(model, test_loader, criterion)\n"
      ],
      "metadata": {
        "id": "wgPzllsRvFLK"
      },
      "execution_count": null,
      "outputs": []
    },
    {
      "cell_type": "code",
      "source": [],
      "metadata": {
        "id": "LZDEf8TgvFJh"
      },
      "execution_count": null,
      "outputs": []
    },
    {
      "cell_type": "code",
      "source": [
        "import torch\n",
        "\n",
        "# Model evaluation on a separate test set\n",
        "def evaluate_model(model, test_loader, criterion, batch_size=32):\n",
        "    model.eval()\n",
        "    test_loss = 0\n",
        "    correct_test = 0\n",
        "    total_test = 0\n",
        "\n",
        "    # Update DataLoader batch size if possible, or implement here manually if needed\n",
        "    # test_loader.batch_size = batch_size  # Update this if your DataLoader supports dynamic batch sizes\n",
        "\n",
        "    with torch.no_grad():\n",
        "        for images, masks in test_loader:\n",
        "            images, masks = images.to(device), masks.to(device)\n",
        "            outputs = model(images)\n",
        "            loss = criterion(outputs, masks)\n",
        "            test_loss += loss.item()\n",
        "\n",
        "            _, predicted = torch.max(outputs, 1)\n",
        "            total_test += masks.numel()\n",
        "            correct_test += (predicted == masks).sum().item()\n",
        "\n",
        "            # Clear cache after processing each batch to free up memory\n",
        "            torch.cuda.empty_cache()\n",
        "\n",
        "    test_accuracy = 100 * correct_test / total_test\n",
        "    print(f'Test Loss: {test_loss / len(test_loader):.3f}, Test Accuracy: {test_accuracy:.2f}%')\n",
        "\n",
        "# Assuming test_loader is defined and set up similarly to train_loader and val_loader\n",
        "evaluate_model(model, test_loader, criterion)\n"
      ],
      "metadata": {
        "id": "120A6-ofyums"
      },
      "execution_count": null,
      "outputs": []
    },
    {
      "cell_type": "code",
      "source": [
        "import torch\n",
        "from torch.utils.checkpoint import checkpoint\n",
        "\n",
        "def run_function(inputs):\n",
        "    return model(inputs)\n",
        "\n",
        "def evaluate_model(model, test_loader, criterion):\n",
        "    model.eval()\n",
        "    test_loss = 0\n",
        "    correct_test = 0\n",
        "    total_test = 0\n",
        "\n",
        "    with torch.no_grad():\n",
        "        for images, masks in test_loader:\n",
        "            images, masks = images.to(device), masks.to(device)\n",
        "            # Using checkpointing during inference for memory efficiency\n",
        "            outputs = checkpoint(run_function, images)\n",
        "            loss = criterion(outputs, masks)\n",
        "            test_loss += loss.item()\n",
        "            _, predicted = torch.max(outputs, 1)\n",
        "            total_test += masks.numel()\n",
        "            correct_test += (predicted == masks).sum().item()\n",
        "\n",
        "    test_accuracy = 100 * correct_test / total_test\n",
        "    print(f'Test Loss: {test_loss / len(test_loader):.3f}, Test Accuracy: {test_accuracy:.2f}%')\n",
        "\n",
        "# Assuming test_loader is defined and set up similarly to train_loader and val_loader\n",
        "evaluate_model(model, test_loader, criterion)\n"
      ],
      "metadata": {
        "id": "EmPbHMZnyuj4"
      },
      "execution_count": null,
      "outputs": []
    },
    {
      "cell_type": "code",
      "source": [],
      "metadata": {
        "id": "eovHrcCDyuhr"
      },
      "execution_count": null,
      "outputs": []
    },
    {
      "cell_type": "code",
      "source": [],
      "metadata": {
        "id": "7bS-fEhiyufk"
      },
      "execution_count": null,
      "outputs": []
    },
    {
      "cell_type": "code",
      "source": [],
      "metadata": {
        "id": "75LANxw3vFHK"
      },
      "execution_count": null,
      "outputs": []
    },
    {
      "cell_type": "code",
      "source": [],
      "metadata": {
        "id": "If9hqwpMf0oB"
      },
      "execution_count": null,
      "outputs": []
    },
    {
      "cell_type": "code",
      "source": [
        "#Updated Training Function with Epoch Feedback and Accuracy\n",
        "import torch\n",
        "\n",
        "def train_model(model, train_loader, val_loader, criterion, optimizer, num_epochs=10):\n",
        "    for epoch in range(num_epochs):\n",
        "        model.train()\n",
        "        train_loss = 0.0\n",
        "        correct_train = 0\n",
        "        total_train = 0\n",
        "\n",
        "        for images, masks in train_loader:\n",
        "            images, masks = images.to(device), masks.to(device)\n",
        "            optimizer.zero_grad()\n",
        "            outputs = model(images)\n",
        "            loss = criterion(outputs, masks)\n",
        "            loss.backward()\n",
        "            optimizer.step()\n",
        "            train_loss += loss.item()\n",
        "\n",
        "            # Calculate accuracy\n",
        "            _, predicted = torch.max(outputs.data, 1)\n",
        "            total_train += masks.nelement()\n",
        "            correct_train += predicted.eq(masks.data).sum().item()\n",
        "\n",
        "        train_accuracy = 100 * correct_train / total_train\n",
        "\n",
        "        model.eval()\n",
        "        val_loss = 0.0\n",
        "        correct_val = 0\n",
        "        total_val = 0\n",
        "        with torch.no_grad():\n",
        "            for images, masks in val_loader:\n",
        "                images, masks = images.to(device), masks.to(device)\n",
        "                outputs = model(images)\n",
        "                loss = criterion(outputs, masks)\n",
        "                val_loss += loss.item()\n",
        "\n",
        "                # Calculate accuracy\n",
        "                _, predicted = torch.max(outputs.data, 1)\n",
        "                total_val += masks.nelement()\n",
        "                correct_val += predicted.eq(masks.data).sum().item()\n",
        "\n",
        "        val_accuracy = 100 * correct_val / total_val\n",
        "\n",
        "        print(f'Epoch {epoch + 1}/{num_epochs}, Train Loss: {train_loss / len(train_loader):.3f}, Train Acc: {train_accuracy:.2f}%, Val Loss: {val_loss / len(val_loader):.3f}, Val Acc: {val_accuracy:.2f}%')\n",
        "\n",
        "# Assuming you have already defined 'model', 'train_loader', 'val_loader', 'criterion', and 'optimizer'\n",
        "train_model(model, train_loader, val_loader, criterion, optimizer, num_epochs=10)\n"
      ],
      "metadata": {
        "id": "K94CsGUvf2KK"
      },
      "execution_count": null,
      "outputs": []
    },
    {
      "cell_type": "code",
      "source": [],
      "metadata": {
        "id": "nqiLoEmj22eI"
      },
      "execution_count": null,
      "outputs": []
    },
    {
      "cell_type": "code",
      "source": [],
      "metadata": {
        "id": "PfJ5wgCG22ba"
      },
      "execution_count": null,
      "outputs": []
    },
    {
      "cell_type": "code",
      "source": [],
      "metadata": {
        "id": "AuYLgWvxf22j"
      },
      "execution_count": null,
      "outputs": []
    },
    {
      "cell_type": "code",
      "source": [
        "# Training function with accuracy same above\n",
        "def train_model(model, train_loader, val_loader, criterion, optimizer, num_epochs=10):\n",
        "    for epoch in range(num_epochs):\n",
        "        model.train()\n",
        "        train_loss = 0\n",
        "        correct_train = 0\n",
        "        total_train = 0\n",
        "\n",
        "        for images, masks in train_loader:\n",
        "            images, masks = images.to(device), masks.to(device)\n",
        "            optimizer.zero_grad()\n",
        "            outputs = model(images)\n",
        "            loss = criterion(outputs, masks)\n",
        "            loss.backward()\n",
        "            optimizer.step()\n",
        "            train_loss += loss.item()\n",
        "\n",
        "            _, predicted = torch.max(outputs, 1)\n",
        "            total_train += masks.numel()\n",
        "            correct_train += (predicted == masks).sum().item()\n",
        "\n",
        "        train_accuracy = 100 * correct_train / total_train\n",
        "\n",
        "        model.eval()\n",
        "        val_loss = 0\n",
        "        correct_val = 0\n",
        "        total_val = 0\n",
        "        with torch.no_grad():\n",
        "            for images, masks in val_loader:\n",
        "                images, masks = images.to(device), masks.to(device)\n",
        "                outputs = model(images)\n",
        "                loss = criterion(outputs, masks)\n",
        "                val_loss += loss.item()\n",
        "\n",
        "                _, predicted = torch.max(outputs, 1)\n",
        "                total_val += masks.numel()\n",
        "                correct_val += (predicted == masks).sum().item()\n",
        "\n",
        "        val_accuracy = 100 * correct_val / total_val\n",
        "\n",
        "        print(f'Epoch {epoch + 1}/{num_epochs}, Train Loss: {train_loss / len(train_loader):.3f}, Train Acc: {train_accuracy:.2f}%, Val Loss: {val_loss / len(val_loader):.3f}, Val Acc: {val_accuracy:.2f}%')\n",
        "\n",
        "# Run the training\n",
        "train_model(model, train_loader, val_loader, criterion, optimizer, num_epochs=10)\n"
      ],
      "metadata": {
        "id": "g9Zww6m7f2zu"
      },
      "execution_count": null,
      "outputs": []
    },
    {
      "cell_type": "code",
      "source": [
        "s"
      ],
      "metadata": {
        "id": "eUWbe7mvf2xf"
      },
      "execution_count": null,
      "outputs": []
    },
    {
      "cell_type": "code",
      "source": [
        "break"
      ],
      "metadata": {
        "id": "QocHT8bPW-kX"
      },
      "execution_count": null,
      "outputs": []
    },
    {
      "cell_type": "code",
      "source": [
        "# This is also shit below"
      ],
      "metadata": {
        "id": "YQSTazteeq3c"
      },
      "execution_count": null,
      "outputs": []
    }
  ]
}